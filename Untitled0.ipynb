{
  "nbformat": 4,
  "nbformat_minor": 0,
  "metadata": {
    "colab": {
      "provenance": [],
      "authorship_tag": "ABX9TyOgi7SeyTd8W2WbRlFf+XLf",
      "include_colab_link": true
    },
    "kernelspec": {
      "name": "python3",
      "display_name": "Python 3"
    },
    "language_info": {
      "name": "python"
    }
  },
  "cells": [
    {
      "cell_type": "markdown",
      "metadata": {
        "id": "view-in-github",
        "colab_type": "text"
      },
      "source": [
        "<a href=\"https://colab.research.google.com/github/cramezquiitar/Reto-4/blob/main/Untitled0.ipynb\" target=\"_parent\"><img src=\"https://colab.research.google.com/assets/colab-badge.svg\" alt=\"Open In Colab\"/></a>"
      ]
    },
    {
      "cell_type": "markdown",
      "source": [
        "Dado un número entero, determinar si ese número corresponde al código ASCII de una vocal minúscula."
      ],
      "metadata": {
        "id": "kSGNtTuYLJSN"
      }
    },
    {
      "cell_type": "code",
      "execution_count": 1,
      "metadata": {
        "colab": {
          "base_uri": "https://localhost:8080/"
        },
        "id": "Z5XeViXOId8w",
        "outputId": "7b64b9da-039e-42d8-c9cd-52e650a5f733"
      },
      "outputs": [
        {
          "output_type": "stream",
          "name": "stdout",
          "text": [
            "Ingresa un número entero: 5\n",
            "El número 5 NO corresponde a una vocal minúscula.\n"
          ]
        }
      ],
      "source": [
        "# Paso 1: Pedimos un número entero\n",
        "numero = int(input(\"Ingresa un número entero: \"))\n",
        "\n",
        "# Paso 2: Convertimos el número a su carácter ASCII usando chr()\n",
        "caracter = chr(numero)\n",
        "\n",
        "# Paso 3: Verificamos si es una vocal minúscula\n",
        "if caracter in ['a', 'e', 'i', 'o', 'u']:\n",
        "    print(f\"El número {numero} corresponde a la vocal minúscula '{caracter}'.\")\n",
        "else:\n",
        "    print(f\"El número {numero} NO corresponde a una vocal minúscula.\")"
      ]
    },
    {
      "cell_type": "markdown",
      "source": [
        "Dada una cadena de longitud 1, determine si el código ASCII de primera letra de la cadena es par o no."
      ],
      "metadata": {
        "id": "qXDd1ihTLTnW"
      }
    },
    {
      "cell_type": "code",
      "source": [
        "# Paso 1: Pedimos un solo carácter\n",
        "caracter = input(\"Ingresa un solo carácter: \")\n",
        "\n",
        "# Paso 2: Verificamos que solo tenga una letra\n",
        "if len(caracter) != 1:\n",
        "    print(\"Error: Debes ingresar solo un carácter.\")\n",
        "else:\n",
        "    # Paso 3: Obtenemos el código ASCII usando ord()\n",
        "    codigo_ascii = ord(caracter)\n",
        "\n",
        "    # Paso 4: Determinamos si es par o impar\n",
        "    if codigo_ascii % 2 == 0:\n",
        "        print(f\"El código ASCII de '{caracter}' es {codigo_ascii}, que es PAR.\")\n",
        "    else:\n",
        "        print(f\"El código ASCII de '{caracter}' es {codigo_ascii}, que es IMPAR.\")\n"
      ],
      "metadata": {
        "colab": {
          "base_uri": "https://localhost:8080/"
        },
        "id": "95HpU8kDK1_M",
        "outputId": "cb0e9017-90f9-4e50-e0d1-bc70f71fb7bb"
      },
      "execution_count": 3,
      "outputs": [
        {
          "output_type": "stream",
          "name": "stdout",
          "text": [
            "Ingresa un solo carácter: 5\n",
            "El código ASCII de '5' es 53, que es IMPAR.\n"
          ]
        }
      ]
    },
    {
      "cell_type": "markdown",
      "source": [
        "Dado un carácter, construya un programa en Python para determinar si el carácter es un dígito o no."
      ],
      "metadata": {
        "id": "nhh4zDZ3Lec1"
      }
    },
    {
      "cell_type": "code",
      "source": [
        "# Paso 1: Pedimos un carácter\n",
        "caracter = input(\"Ingresa un carácter: \")\n",
        "\n",
        "# Paso 2: Verificamos que se haya ingresado solo un carácter\n",
        "if len(caracter) != 1:\n",
        "    print(\"Error: Debes ingresar solo un carácter.\")\n",
        "else:\n",
        "    # Paso 3: Usamos el método isdigit() para verificar si es un dígito\n",
        "    if caracter.isdigit():\n",
        "        print(f\"'{caracter}' es un dígito.\")\n",
        "    else:\n",
        "        print(f\"'{caracter}' NO es un dígito.\")\n"
      ],
      "metadata": {
        "colab": {
          "base_uri": "https://localhost:8080/"
        },
        "id": "U7kPS6XyLem0",
        "outputId": "a3fc3b2c-856d-4f77-9106-486c8f99cf5c"
      },
      "execution_count": 2,
      "outputs": [
        {
          "output_type": "stream",
          "name": "stdout",
          "text": [
            "Ingresa un carácter: 20\n",
            "Error: Debes ingresar solo un carácter.\n"
          ]
        }
      ]
    },
    {
      "cell_type": "markdown",
      "source": [
        "Realice un programa que lea dos números reales y determine si el primero es múltiplo del segundo."
      ],
      "metadata": {
        "id": "AENCQPLfLfbv"
      }
    },
    {
      "cell_type": "code",
      "source": [
        "# Paso 1: Pedimos dos números reales\n",
        "numero1 = float(input(\"Ingresa el primer número real: \"))\n",
        "numero2 = float(input(\"Ingresa el segundo número real: \"))\n",
        "\n",
        "# Paso 2: Verificamos que el segundo número no sea cero (para evitar división por cero)\n",
        "if numero2 == 0:\n",
        "    print(\"Error: No se puede dividir por cero.\")\n",
        "else:\n",
        "    # Paso 3: Comprobamos si el primero es múltiplo del segundo\n",
        "    if numero1 % numero2 == 0:\n",
        "        print(f\"{numero1} es múltiplo de {numero2}.\")\n",
        "    else:\n",
        "        print(f\"{numero1} NO es múltiplo de {numero2}.\")\n"
      ],
      "metadata": {
        "id": "WEslZmOgLfjD"
      },
      "execution_count": null,
      "outputs": []
    },
    {
      "cell_type": "markdown",
      "source": [
        "Dado un número real x, construya un programa que permita determinar si el número es positivo, negativo o cero. Para cada caso de debe imprimir el texto que se especifica a continuación:"
      ],
      "metadata": {
        "id": "06q0DRV4LjrD"
      }
    },
    {
      "cell_type": "code",
      "source": [
        "# Paso 1: Leer un número real desde el teclado\n",
        "x = float(input(\"Ingresa un número real: \"))\n",
        "\n",
        "# Paso 2: Determinar si el número es positivo, negativo o cero\n",
        "if x > 0:\n",
        "    print(\"El número es positivo.\")\n",
        "elif x < 0:\n",
        "    print(\"El número es negativo.\")\n",
        "else:\n",
        "    print(\"El número es cero.\")\n"
      ],
      "metadata": {
        "id": "TQ4XtftILjxR"
      },
      "execution_count": null,
      "outputs": []
    },
    {
      "cell_type": "markdown",
      "source": [
        "Dado un número real x, construya un programa que permita determinar si el número es positivo, negativo o cero. Para cada caso de debe imprimir el texto que se especifica a continuación:\n",
        "\n",
        "Positivo: \"El número x es positivo\"\n",
        "Negativo: \"El número x es negativo\"\n",
        "Cero (0): \"El número x es el neutro para la suma\"\n"
      ],
      "metadata": {
        "id": "hyB74Qc4Lj7r"
      }
    },
    {
      "cell_type": "code",
      "source": [
        "# Paso 1: Pedimos un número real\n",
        "x = float(input(\"Ingresa un número real: \"))\n",
        "\n",
        "# Paso 2: Evaluamos si es positivo, negativo o cero\n",
        "if x > 0:\n",
        "    print(f\"El número {x} es positivo\")\n",
        "elif x < 0:\n",
        "    print(f\"El número {x} es negativo\")\n",
        "else:\n",
        "    print(f\"El número {x} es el neutro para la suma\")\n"
      ],
      "metadata": {
        "id": "uXOPrFQiLkCt"
      },
      "execution_count": null,
      "outputs": []
    },
    {
      "cell_type": "markdown",
      "source": [
        "Dado el centro y el radio de un círculo, determinar si un punto de R2 pertenece o no al interior del círculo"
      ],
      "metadata": {
        "id": "aXJWDOUOLkLX"
      }
    },
    {
      "cell_type": "code",
      "source": [
        "# Paso 1: Ingresar los datos\n",
        "x0 = float(input(\"Ingresa la coordenada x del centro del círculo: \"))\n",
        "y0 = float(input(\"Ingresa la coordenada y del centro del círculo: \"))\n",
        "radio = float(input(\"Ingresa el radio del círculo: \"))\n",
        "x = float(input(\"Ingresa la coordenada x del punto: \"))\n",
        "y = float(input(\"Ingresa la coordenada y del punto: \"))\n",
        "\n",
        "# Paso 2: Calcular la distancia al cuadrado entre el punto y el centro\n",
        "distancia_cuadrado = (x - x0)**2 + (y - y0)**2\n",
        "radio_cuadrado = radio**2\n",
        "\n",
        "# Paso 3: Determinar la posición del punto respecto al círculo\n",
        "if distancia_cuadrado < radio_cuadrado:\n",
        "    print(\"El punto está dentro del círculo.\")\n",
        "elif distancia_cuadrado == radio_cuadrado:\n",
        "    print(\"El punto está sobre el círculo.\")\n",
        "else:\n",
        "    print(\"El punto está fuera del círculo.\")\n"
      ],
      "metadata": {
        "id": "B4swQccxLkQx"
      },
      "execution_count": null,
      "outputs": []
    },
    {
      "cell_type": "markdown",
      "source": [
        "Dadas tres longitudes positivas, determinar si con esas longitudes se puede construir un triángulo."
      ],
      "metadata": {
        "id": "3e7ZmysNLkYn"
      }
    },
    {
      "cell_type": "code",
      "source": [
        "# Paso 1: Leer las tres longitudes\n",
        "a = float(input(\"Ingresa la longitud del lado a: \"))\n",
        "b = float(input(\"Ingresa la longitud del lado b: \"))\n",
        "c = float(input(\"Ingresa la longitud del lado c: \"))\n",
        "\n",
        "# Paso 2: Verificar si las longitudes son positivas\n",
        "if a <= 0 or b <= 0 or c <= 0:\n",
        "    print(\"Error: Todas las longitudes deben ser positivas.\")\n",
        "else:\n",
        "    # Paso 3: Verificar la desigualdad triangular\n",
        "    if (a + b > c) and (a + c > b) and (b + c > a):\n",
        "        print(\"Sí, con esas longitudes se puede construir un triángulo.\")\n",
        "    else:\n",
        "        print(\"No, con esas longitudes NO se puede construir un triángulo.\")\n"
      ],
      "metadata": {
        "id": "omKDbt5LLkdx"
      },
      "execution_count": null,
      "outputs": []
    },
    {
      "cell_type": "markdown",
      "source": [
        "Escriba un programa que reciba el nombre en minúsculas de un país de America y retorne la ciudad capital, si el país no pertenece al continente debe arrojar país no identificado (Utilice match-case)."
      ],
      "metadata": {
        "id": "7uO632nvNQvY"
      }
    },
    {
      "cell_type": "code",
      "source": [
        "# Paso 1: Pedir al usuario el nombre del país en minúsculas\n",
        "pais = input(\"Ingresa el nombre de un país de América en minúsculas: \")\n",
        "\n",
        "# Paso 2: Usar match-case para identificar la capital\n",
        "match pais:\n",
        "    case \"argentina\":\n",
        "        print(\"La capital es Buenos Aires\")\n",
        "    case \"brasil\":\n",
        "        print(\"La capital es Brasilia\")\n",
        "    case \"canadá\":\n",
        "        print(\"La capital es Ottawa\")\n",
        "    case \"chile\":\n",
        "        print(\"La capital es Santiago\")\n",
        "    case \"colombia\":\n",
        "        print(\"La capital es Bogotá\")\n",
        "    case \"ecuador\":\n",
        "        print(\"La capital es Quito\")\n",
        "    case \"estados unidos\":\n",
        "        print(\"La capital es Washington D.C.\")\n",
        "    case \"méxico\":\n",
        "        print(\"La capital es Ciudad de México\")\n",
        "    case \"perú\":\n",
        "        print(\"La capital es Lima\")\n",
        "    case \"uruguay\":\n",
        "        print(\"La capital es Montevideo\")\n",
        "    case \"venezuela\":\n",
        "        print(\"La capital es Caracas\")\n",
        "    case _:\n",
        "        print(\"país no identificado\")\n"
      ],
      "metadata": {
        "id": "emSdrfvBNV-q"
      },
      "execution_count": null,
      "outputs": []
    }
  ]
}